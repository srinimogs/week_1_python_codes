{
 "cells": [
  {
   "cell_type": "code",
   "execution_count": 3,
   "id": "eb2f6a9a",
   "metadata": {},
   "outputs": [
    {
     "name": "stdout",
     "output_type": "stream",
     "text": [
      "My Name is Srinivas Moghe\n",
      "The Date is 13 Sep 2022\n"
     ]
    }
   ],
   "source": [
    "# this is my first line of code\n",
    "print (\"My Name is Srinivas Moghe\")\n",
    "print (\"The Date is 13 Sep 2022\")\n"
   ]
  },
  {
   "cell_type": "code",
   "execution_count": 10,
   "id": "ef242367",
   "metadata": {},
   "outputs": [
    {
     "name": "stdout",
     "output_type": "stream",
     "text": [
      "182900\n"
     ]
    }
   ],
   "source": [
    "# Write a program to analyse real estate data\n",
    "# Total Sales for December\n",
    "a = 45000\n",
    "b = 23400\n",
    "c = 67000\n",
    "d = 34600\n",
    "e = 12900\n",
    "TotalSales = a + b + c + d + e\n",
    "print (TotalSales)"
   ]
  },
  {
   "cell_type": "code",
   "execution_count": 12,
   "id": "4ec498ba",
   "metadata": {},
   "outputs": [
    {
     "name": "stdout",
     "output_type": "stream",
     "text": [
      "36580\n"
     ]
    }
   ],
   "source": [
    "# average sales price for December\n",
    "Average = TotalSales/5\n",
    "print (int(Average))"
   ]
  },
  {
   "cell_type": "code",
   "execution_count": 13,
   "id": "f422fe53",
   "metadata": {},
   "outputs": [
    {
     "name": "stdout",
     "output_type": "stream",
     "text": [
      "60500\n"
     ]
    }
   ],
   "source": [
    "# price for property C\n",
    "price = 67000 - 6500\n",
    "print (price)"
   ]
  },
  {
   "cell_type": "code",
   "execution_count": null,
   "id": "e99d48bb",
   "metadata": {},
   "outputs": [],
   "source": []
  }
 ],
 "metadata": {
  "kernelspec": {
   "display_name": "Python 3 (ipykernel)",
   "language": "python",
   "name": "python3"
  },
  "language_info": {
   "codemirror_mode": {
    "name": "ipython",
    "version": 3
   },
   "file_extension": ".py",
   "mimetype": "text/x-python",
   "name": "python",
   "nbconvert_exporter": "python",
   "pygments_lexer": "ipython3",
   "version": "3.9.12"
  }
 },
 "nbformat": 4,
 "nbformat_minor": 5
}
