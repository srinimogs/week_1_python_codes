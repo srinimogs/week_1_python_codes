{
 "cells": [
  {
   "cell_type": "markdown",
   "id": "79a1a5ff",
   "metadata": {},
   "source": [
    "1. the hour, minute, second of a specific timestamp"
   ]
  },
  {
   "cell_type": "code",
   "execution_count": 1,
   "id": "e35b14fc",
   "metadata": {},
   "outputs": [
    {
     "name": "stdout",
     "output_type": "stream",
     "text": [
      "Hour = 8\n",
      "Minutes = 22\n",
      "Seconds = 31\n"
     ]
    }
   ],
   "source": [
    "from datetime import time\n",
    "\n",
    "ti = time(8, 22, 31)\n",
    "\n",
    "print(\"Hour =\", ti.hour)\n",
    "print(\"Minutes =\", ti.minute)\n",
    "print(\"Seconds =\", ti.second)\n"
   ]
  },
  {
   "cell_type": "markdown",
   "id": "7fce8717",
   "metadata": {},
   "source": [
    "2. specific time stamp as year, month, day, hour, minutes, seconds"
   ]
  },
  {
   "cell_type": "code",
   "execution_count": 5,
   "id": "6432ab1f",
   "metadata": {},
   "outputs": [
    {
     "name": "stdout",
     "output_type": "stream",
     "text": [
      "Year = 2022\n",
      "Month = 9\n",
      "Day = 18\n",
      "Hour = 9\n",
      "Minutes = 25\n",
      "Seconds = 46\n"
     ]
    }
   ],
   "source": [
    "from datetime import datetime\n",
    "\n",
    "ti = datetime(2022, 9, 18, 9, 25, 46)\n",
    "\n",
    "print(\"Year =\", ti.year,)\n",
    "print(\"Month =\", ti.month)\n",
    "print(\"Day =\", ti.day)\n",
    "print(\"Hour =\", ti.hour)\n",
    "print(\"Minutes =\", ti.minute)\n",
    "print(\"Seconds =\", ti.second)\n"
   ]
  },
  {
   "cell_type": "markdown",
   "id": "eb97ad3b",
   "metadata": {},
   "source": [
    "3. the current date"
   ]
  },
  {
   "cell_type": "code",
   "execution_count": 9,
   "id": "a1dc5c20",
   "metadata": {},
   "outputs": [
    {
     "name": "stdout",
     "output_type": "stream",
     "text": [
      "Year = 2022\n",
      "Month = 9\n",
      "Day = 18\n"
     ]
    }
   ],
   "source": [
    "from datetime import date\n",
    "\n",
    "ti = date.today()\n",
    "\n",
    "print(\"Year =\", ti.year)\n",
    "print(\"Month =\", ti.month)\n",
    "print(\"Day =\", ti.day)\n"
   ]
  },
  {
   "cell_type": "code",
   "execution_count": 13,
   "id": "bf8a89ca",
   "metadata": {},
   "outputs": [
    {
     "name": "stdout",
     "output_type": "stream",
     "text": [
      "Today = 18/09/18\n"
     ]
    }
   ],
   "source": [
    "from datetime import date\n",
    "import pytz\n",
    "import datetime\n",
    "from datetime import datetime\n",
    "ti = datetime.now()\n",
    "\n",
    "print(\"Today =\", ti.strftime (\"%d/%m/%d\" ))"
   ]
  },
  {
   "cell_type": "markdown",
   "id": "f7db4937",
   "metadata": {},
   "source": [
    "4. Name of a day from a current datetime object"
   ]
  },
  {
   "cell_type": "code",
   "execution_count": 19,
   "id": "9f8374a0",
   "metadata": {},
   "outputs": [
    {
     "name": "stdout",
     "output_type": "stream",
     "text": [
      "Today is = Sunday\n"
     ]
    }
   ],
   "source": [
    "from datetime import datetime\n",
    "\n",
    "day = datetime.now()\n",
    "\n",
    "print(\"Today is =\", day.strftime(\"%A\"))"
   ]
  },
  {
   "cell_type": "code",
   "execution_count": null,
   "id": "9b701823",
   "metadata": {},
   "outputs": [],
   "source": []
  },
  {
   "cell_type": "code",
   "execution_count": null,
   "id": "e1ab3a7c",
   "metadata": {},
   "outputs": [],
   "source": []
  }
 ],
 "metadata": {
  "kernelspec": {
   "display_name": "Python 3 (ipykernel)",
   "language": "python",
   "name": "python3"
  },
  "language_info": {
   "codemirror_mode": {
    "name": "ipython",
    "version": 3
   },
   "file_extension": ".py",
   "mimetype": "text/x-python",
   "name": "python",
   "nbconvert_exporter": "python",
   "pygments_lexer": "ipython3",
   "version": "3.9.12"
  }
 },
 "nbformat": 4,
 "nbformat_minor": 5
}
